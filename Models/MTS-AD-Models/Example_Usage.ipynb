{
  "cells": [
    {
      "cell_type": "markdown",
      "source": [
        "This Google Colab notebook provides step-by-step instructions to set up the environment, install required dependencies, and run models from the https://github.com/imperial-qore/TranAD GitHub repository. It simplifies the process installing necessary packages, cloning the repository, and executing sample scripts to demonstrate model usage.\n",
        "\n",
        "**For detailed information about the models, implementation details, and source code, please refer directly to**\n",
        "[TranAD GitHub Repository](https://github.com/imperial-qore/TranAD)"
      ],
      "metadata": {
        "id": "SxEWxYHS1Zl6"
      }
    },
    {
      "cell_type": "code",
      "execution_count": 1,
      "metadata": {
        "id": "E4HZv9xDivPv",
        "colab": {
          "base_uri": "https://localhost:8080/"
        },
        "outputId": "b5242a3c-6464-4fb7-c6b4-d638b25f575f"
      },
      "outputs": [
        {
          "output_type": "stream",
          "name": "stdout",
          "text": [
            "W: Skipping acquire of configured file 'main/source/Sources' as repository 'https://r2u.stat.illinois.edu/ubuntu jammy InRelease' does not seem to provide it (sources.list entry misspelt?)\n",
            "debconf: unable to initialize frontend: Dialog\n",
            "debconf: (No usable dialog-like program is installed, so the dialog based frontend cannot be used. at /usr/share/perl5/Debconf/FrontEnd/Dialog.pm line 78, <> line 10.)\n",
            "debconf: falling back to frontend: Readline\n",
            "debconf: unable to initialize frontend: Readline\n",
            "debconf: (This frontend requires a controlling tty.)\n",
            "debconf: falling back to frontend: Teletype\n",
            "dpkg-preconfigure: unable to re-open stdin: \n",
            "Selecting previously unselected package libpython3.8-minimal:amd64.\n",
            "(Reading database ... 126374 files and directories currently installed.)\n",
            "Preparing to unpack .../0-libpython3.8-minimal_3.8.20-1+jammy1_amd64.deb ...\n",
            "Unpacking libpython3.8-minimal:amd64 (3.8.20-1+jammy1) ...\n",
            "Selecting previously unselected package python3.8-minimal.\n",
            "Preparing to unpack .../1-python3.8-minimal_3.8.20-1+jammy1_amd64.deb ...\n",
            "Unpacking python3.8-minimal (3.8.20-1+jammy1) ...\n",
            "Selecting previously unselected package libpython3.8-stdlib:amd64.\n",
            "Preparing to unpack .../2-libpython3.8-stdlib_3.8.20-1+jammy1_amd64.deb ...\n",
            "Unpacking libpython3.8-stdlib:amd64 (3.8.20-1+jammy1) ...\n",
            "Selecting previously unselected package libpython3.8:amd64.\n",
            "Preparing to unpack .../3-libpython3.8_3.8.20-1+jammy1_amd64.deb ...\n",
            "Unpacking libpython3.8:amd64 (3.8.20-1+jammy1) ...\n",
            "Selecting previously unselected package libpython3.8-dev:amd64.\n",
            "Preparing to unpack .../4-libpython3.8-dev_3.8.20-1+jammy1_amd64.deb ...\n",
            "Unpacking libpython3.8-dev:amd64 (3.8.20-1+jammy1) ...\n",
            "Selecting previously unselected package python3.8.\n",
            "Preparing to unpack .../5-python3.8_3.8.20-1+jammy1_amd64.deb ...\n",
            "Unpacking python3.8 (3.8.20-1+jammy1) ...\n",
            "Selecting previously unselected package python3.8-dev.\n",
            "Preparing to unpack .../6-python3.8-dev_3.8.20-1+jammy1_amd64.deb ...\n",
            "Unpacking python3.8-dev (3.8.20-1+jammy1) ...\n",
            "Selecting previously unselected package python3.8-lib2to3.\n",
            "Preparing to unpack .../7-python3.8-lib2to3_3.8.20-1+jammy1_all.deb ...\n",
            "Unpacking python3.8-lib2to3 (3.8.20-1+jammy1) ...\n",
            "Selecting previously unselected package python3.8-distutils.\n",
            "Preparing to unpack .../8-python3.8-distutils_3.8.20-1+jammy1_all.deb ...\n",
            "Unpacking python3.8-distutils (3.8.20-1+jammy1) ...\n",
            "Selecting previously unselected package python3.8-venv.\n",
            "Preparing to unpack .../9-python3.8-venv_3.8.20-1+jammy1_amd64.deb ...\n",
            "Unpacking python3.8-venv (3.8.20-1+jammy1) ...\n",
            "Setting up libpython3.8-minimal:amd64 (3.8.20-1+jammy1) ...\n",
            "Setting up python3.8-lib2to3 (3.8.20-1+jammy1) ...\n",
            "Setting up python3.8-minimal (3.8.20-1+jammy1) ...\n",
            "Setting up python3.8-distutils (3.8.20-1+jammy1) ...\n",
            "Setting up libpython3.8-stdlib:amd64 (3.8.20-1+jammy1) ...\n",
            "Setting up python3.8 (3.8.20-1+jammy1) ...\n",
            "Setting up libpython3.8:amd64 (3.8.20-1+jammy1) ...\n",
            "Setting up python3.8-venv (3.8.20-1+jammy1) ...\n",
            "Setting up libpython3.8-dev:amd64 (3.8.20-1+jammy1) ...\n",
            "Setting up python3.8-dev (3.8.20-1+jammy1) ...\n",
            "Processing triggers for man-db (2.10.2-1) ...\n",
            "Processing triggers for mailcap (3.70+nmu1ubuntu1) ...\n"
          ]
        }
      ],
      "source": [
        "# Create a virtual environment\n",
        "!sudo apt-get update -qq\n",
        "!sudo apt-get install python3.8 python3.8-distutils python3.8-dev python3.8-venv -qq\n",
        "!python3.8 -m venv myenv"
      ]
    },
    {
      "cell_type": "code",
      "source": [
        "!myenv/bin/python -m pip install --upgrade pip setuptools wheel"
      ],
      "metadata": {
        "colab": {
          "base_uri": "https://localhost:8080/"
        },
        "id": "fGC9qhZsCKsO",
        "outputId": "2edff1d0-893a-4a95-ac46-8edd65a14598"
      },
      "execution_count": 2,
      "outputs": [
        {
          "output_type": "stream",
          "name": "stdout",
          "text": [
            "Requirement already satisfied: pip in ./myenv/lib/python3.8/site-packages (23.0.1)\n",
            "Collecting pip\n",
            "  Downloading pip-25.0.1-py3-none-any.whl (1.8 MB)\n",
            "\u001b[2K     \u001b[90m━━━━━━━━━━━━━━━━━━━━━━━━━━━━━━━━━━━━━━━━\u001b[0m \u001b[32m1.8/1.8 MB\u001b[0m \u001b[31m15.5 MB/s\u001b[0m eta \u001b[36m0:00:00\u001b[0m\n",
            "\u001b[?25hRequirement already satisfied: setuptools in ./myenv/lib/python3.8/site-packages (56.0.0)\n",
            "Collecting setuptools\n",
            "  Downloading setuptools-75.3.2-py3-none-any.whl (1.3 MB)\n",
            "\u001b[2K     \u001b[90m━━━━━━━━━━━━━━━━━━━━━━━━━━━━━━━━━━━━━━━━\u001b[0m \u001b[32m1.3/1.3 MB\u001b[0m \u001b[31m80.8 MB/s\u001b[0m eta \u001b[36m0:00:00\u001b[0m\n",
            "\u001b[?25hCollecting wheel\n",
            "  Downloading wheel-0.45.1-py3-none-any.whl (72 kB)\n",
            "\u001b[2K     \u001b[90m━━━━━━━━━━━━━━━━━━━━━━━━━━━━━━━━━━━━━━━━\u001b[0m \u001b[32m72.5/72.5 kB\u001b[0m \u001b[31m12.0 MB/s\u001b[0m eta \u001b[36m0:00:00\u001b[0m\n",
            "\u001b[?25hInstalling collected packages: wheel, setuptools, pip\n",
            "  Attempting uninstall: setuptools\n",
            "    Found existing installation: setuptools 56.0.0\n",
            "    Uninstalling setuptools-56.0.0:\n",
            "      Successfully uninstalled setuptools-56.0.0\n",
            "  Attempting uninstall: pip\n",
            "    Found existing installation: pip 23.0.1\n",
            "    Uninstalling pip-23.0.1:\n",
            "      Successfully uninstalled pip-23.0.1\n",
            "Successfully installed pip-25.0.1 setuptools-75.3.2 wheel-0.45.1\n"
          ]
        }
      ]
    },
    {
      "cell_type": "code",
      "execution_count": 3,
      "metadata": {
        "id": "Ejss-8L87sdX",
        "colab": {
          "base_uri": "https://localhost:8080/"
        },
        "outputId": "7c8af60f-b1bc-469c-8845-01661cb663c8"
      },
      "outputs": [
        {
          "output_type": "stream",
          "name": "stdout",
          "text": [
            "myenv  sample_data\n"
          ]
        }
      ],
      "source": [
        "!ls"
      ]
    },
    {
      "cell_type": "code",
      "execution_count": 4,
      "metadata": {
        "id": "yHagylHOoRkt",
        "colab": {
          "base_uri": "https://localhost:8080/"
        },
        "outputId": "dd6d2544-285d-48de-badc-d64a29ba1638"
      },
      "outputs": [
        {
          "output_type": "stream",
          "name": "stdout",
          "text": [
            "Cloning into 'TranAD'...\n",
            "remote: Enumerating objects: 887, done.\u001b[K\n",
            "remote: Counting objects: 100% (407/407), done.\u001b[K\n",
            "remote: Compressing objects: 100% (150/150), done.\u001b[K\n",
            "remote: Total 887 (delta 270), reused 257 (delta 257), pack-reused 480 (from 1)\u001b[K\n",
            "Receiving objects: 100% (887/887), 135.71 MiB | 9.72 MiB/s, done.\n",
            "Resolving deltas: 100% (583/583), done.\n",
            "Updating files: 100% (335/335), done.\n",
            "/content/TranAD\n"
          ]
        }
      ],
      "source": [
        "!git clone https://github.com/imperial-qore/TranAD\n",
        "%cd TranAD"
      ]
    },
    {
      "cell_type": "code",
      "execution_count": 5,
      "metadata": {
        "id": "F_o03NKWn1WP",
        "colab": {
          "base_uri": "https://localhost:8080/"
        },
        "outputId": "cd8b4b50-b729-4125-9896-5ed27f3e5609"
      },
      "outputs": [
        {
          "output_type": "stream",
          "name": "stdout",
          "text": [
            "Collecting pandas (from -r requirements.txt (line 1))\n",
            "  Downloading pandas-2.0.3-cp38-cp38-manylinux_2_17_x86_64.manylinux2014_x86_64.whl.metadata (18 kB)\n",
            "Collecting tqdm (from -r requirements.txt (line 2))\n",
            "  Downloading tqdm-4.67.1-py3-none-any.whl.metadata (57 kB)\n",
            "Collecting matplotlib (from -r requirements.txt (line 3))\n",
            "  Downloading matplotlib-3.7.5-cp38-cp38-manylinux_2_12_x86_64.manylinux2010_x86_64.whl.metadata (5.7 kB)\n",
            "Collecting dgl (from -r requirements.txt (line 4))\n",
            "  Downloading dgl-2.1.0-cp38-cp38-manylinux1_x86_64.whl.metadata (581 bytes)\n",
            "Collecting numpy (from -r requirements.txt (line 5))\n",
            "  Downloading numpy-1.24.4-cp38-cp38-manylinux_2_17_x86_64.manylinux2014_x86_64.whl.metadata (5.6 kB)\n",
            "Collecting SciencePlots (from -r requirements.txt (line 6))\n",
            "  Downloading SciencePlots-2.1.1-py3-none-any.whl.metadata (11 kB)\n",
            "Collecting scikit-learn (from -r requirements.txt (line 7))\n",
            "  Downloading scikit_learn-1.3.2-cp38-cp38-manylinux_2_17_x86_64.manylinux2014_x86_64.whl.metadata (11 kB)\n",
            "Collecting xlrd==1.2.0 (from -r requirements.txt (line 8))\n",
            "  Downloading xlrd-1.2.0-py2.py3-none-any.whl.metadata (1.3 kB)\n",
            "Collecting python-dateutil>=2.8.2 (from pandas->-r requirements.txt (line 1))\n",
            "  Downloading python_dateutil-2.9.0.post0-py2.py3-none-any.whl.metadata (8.4 kB)\n",
            "Collecting pytz>=2020.1 (from pandas->-r requirements.txt (line 1))\n",
            "  Downloading pytz-2025.2-py2.py3-none-any.whl.metadata (22 kB)\n",
            "Collecting tzdata>=2022.1 (from pandas->-r requirements.txt (line 1))\n",
            "  Downloading tzdata-2025.2-py2.py3-none-any.whl.metadata (1.4 kB)\n",
            "Collecting contourpy>=1.0.1 (from matplotlib->-r requirements.txt (line 3))\n",
            "  Downloading contourpy-1.1.1-cp38-cp38-manylinux_2_17_x86_64.manylinux2014_x86_64.whl.metadata (5.9 kB)\n",
            "Collecting cycler>=0.10 (from matplotlib->-r requirements.txt (line 3))\n",
            "  Downloading cycler-0.12.1-py3-none-any.whl.metadata (3.8 kB)\n",
            "Collecting fonttools>=4.22.0 (from matplotlib->-r requirements.txt (line 3))\n",
            "  Downloading fonttools-4.57.0-cp38-cp38-manylinux_2_17_x86_64.manylinux2014_x86_64.whl.metadata (102 kB)\n",
            "Collecting kiwisolver>=1.0.1 (from matplotlib->-r requirements.txt (line 3))\n",
            "  Downloading kiwisolver-1.4.7-cp38-cp38-manylinux_2_5_x86_64.manylinux1_x86_64.whl.metadata (6.3 kB)\n",
            "Collecting packaging>=20.0 (from matplotlib->-r requirements.txt (line 3))\n",
            "  Downloading packaging-25.0-py3-none-any.whl.metadata (3.3 kB)\n",
            "Collecting pillow>=6.2.0 (from matplotlib->-r requirements.txt (line 3))\n",
            "  Downloading pillow-10.4.0-cp38-cp38-manylinux_2_28_x86_64.whl.metadata (9.2 kB)\n",
            "Collecting pyparsing>=2.3.1 (from matplotlib->-r requirements.txt (line 3))\n",
            "  Downloading pyparsing-3.1.4-py3-none-any.whl.metadata (5.1 kB)\n",
            "Collecting importlib-resources>=3.2.0 (from matplotlib->-r requirements.txt (line 3))\n",
            "  Downloading importlib_resources-6.4.5-py3-none-any.whl.metadata (4.0 kB)\n",
            "Collecting scipy>=1.1.0 (from dgl->-r requirements.txt (line 4))\n",
            "  Downloading scipy-1.10.1-cp38-cp38-manylinux_2_17_x86_64.manylinux2014_x86_64.whl.metadata (58 kB)\n",
            "Collecting networkx>=2.1 (from dgl->-r requirements.txt (line 4))\n",
            "  Downloading networkx-3.1-py3-none-any.whl.metadata (5.3 kB)\n",
            "Collecting requests>=2.19.0 (from dgl->-r requirements.txt (line 4))\n",
            "  Downloading requests-2.32.4-py3-none-any.whl.metadata (4.9 kB)\n",
            "Collecting psutil>=5.8.0 (from dgl->-r requirements.txt (line 4))\n",
            "  Downloading psutil-7.0.0-cp36-abi3-manylinux_2_12_x86_64.manylinux2010_x86_64.manylinux_2_17_x86_64.manylinux2014_x86_64.whl.metadata (22 kB)\n",
            "Collecting torchdata>=0.5.0 (from dgl->-r requirements.txt (line 4))\n",
            "  Downloading torchdata-0.8.0-cp38-cp38-manylinux1_x86_64.whl.metadata (5.4 kB)\n",
            "Collecting joblib>=1.1.1 (from scikit-learn->-r requirements.txt (line 7))\n",
            "  Downloading joblib-1.4.2-py3-none-any.whl.metadata (5.4 kB)\n",
            "Collecting threadpoolctl>=2.0.0 (from scikit-learn->-r requirements.txt (line 7))\n",
            "  Downloading threadpoolctl-3.5.0-py3-none-any.whl.metadata (13 kB)\n",
            "Collecting zipp>=3.1.0 (from importlib-resources>=3.2.0->matplotlib->-r requirements.txt (line 3))\n",
            "  Downloading zipp-3.20.2-py3-none-any.whl.metadata (3.7 kB)\n",
            "Collecting six>=1.5 (from python-dateutil>=2.8.2->pandas->-r requirements.txt (line 1))\n",
            "  Downloading six-1.17.0-py2.py3-none-any.whl.metadata (1.7 kB)\n",
            "Collecting charset_normalizer<4,>=2 (from requests>=2.19.0->dgl->-r requirements.txt (line 4))\n",
            "  Downloading charset_normalizer-3.4.3-cp38-cp38-manylinux2014_x86_64.manylinux_2_17_x86_64.manylinux_2_28_x86_64.whl.metadata (36 kB)\n",
            "Collecting idna<4,>=2.5 (from requests>=2.19.0->dgl->-r requirements.txt (line 4))\n",
            "  Downloading idna-3.10-py3-none-any.whl.metadata (10 kB)\n",
            "Collecting urllib3<3,>=1.21.1 (from requests>=2.19.0->dgl->-r requirements.txt (line 4))\n",
            "  Downloading urllib3-2.2.3-py3-none-any.whl.metadata (6.5 kB)\n",
            "Collecting certifi>=2017.4.17 (from requests>=2.19.0->dgl->-r requirements.txt (line 4))\n",
            "  Downloading certifi-2025.8.3-py3-none-any.whl.metadata (2.4 kB)\n",
            "Collecting torch>=2 (from torchdata>=0.5.0->dgl->-r requirements.txt (line 4))\n",
            "  Downloading torch-2.4.1-cp38-cp38-manylinux1_x86_64.whl.metadata (26 kB)\n",
            "Collecting filelock (from torch>=2->torchdata>=0.5.0->dgl->-r requirements.txt (line 4))\n",
            "  Downloading filelock-3.16.1-py3-none-any.whl.metadata (2.9 kB)\n",
            "Collecting typing-extensions>=4.8.0 (from torch>=2->torchdata>=0.5.0->dgl->-r requirements.txt (line 4))\n",
            "  Downloading typing_extensions-4.13.2-py3-none-any.whl.metadata (3.0 kB)\n",
            "Collecting sympy (from torch>=2->torchdata>=0.5.0->dgl->-r requirements.txt (line 4))\n",
            "  Downloading sympy-1.13.3-py3-none-any.whl.metadata (12 kB)\n",
            "Collecting jinja2 (from torch>=2->torchdata>=0.5.0->dgl->-r requirements.txt (line 4))\n",
            "  Downloading jinja2-3.1.6-py3-none-any.whl.metadata (2.9 kB)\n",
            "Collecting fsspec (from torch>=2->torchdata>=0.5.0->dgl->-r requirements.txt (line 4))\n",
            "  Downloading fsspec-2025.3.0-py3-none-any.whl.metadata (11 kB)\n",
            "Collecting nvidia-cuda-nvrtc-cu12==12.1.105 (from torch>=2->torchdata>=0.5.0->dgl->-r requirements.txt (line 4))\n",
            "  Downloading nvidia_cuda_nvrtc_cu12-12.1.105-py3-none-manylinux1_x86_64.whl.metadata (1.5 kB)\n",
            "Collecting nvidia-cuda-runtime-cu12==12.1.105 (from torch>=2->torchdata>=0.5.0->dgl->-r requirements.txt (line 4))\n",
            "  Downloading nvidia_cuda_runtime_cu12-12.1.105-py3-none-manylinux1_x86_64.whl.metadata (1.5 kB)\n",
            "Collecting nvidia-cuda-cupti-cu12==12.1.105 (from torch>=2->torchdata>=0.5.0->dgl->-r requirements.txt (line 4))\n",
            "  Downloading nvidia_cuda_cupti_cu12-12.1.105-py3-none-manylinux1_x86_64.whl.metadata (1.6 kB)\n",
            "Collecting nvidia-cudnn-cu12==9.1.0.70 (from torch>=2->torchdata>=0.5.0->dgl->-r requirements.txt (line 4))\n",
            "  Downloading nvidia_cudnn_cu12-9.1.0.70-py3-none-manylinux2014_x86_64.whl.metadata (1.6 kB)\n",
            "Collecting nvidia-cublas-cu12==12.1.3.1 (from torch>=2->torchdata>=0.5.0->dgl->-r requirements.txt (line 4))\n",
            "  Downloading nvidia_cublas_cu12-12.1.3.1-py3-none-manylinux1_x86_64.whl.metadata (1.5 kB)\n",
            "Collecting nvidia-cufft-cu12==11.0.2.54 (from torch>=2->torchdata>=0.5.0->dgl->-r requirements.txt (line 4))\n",
            "  Downloading nvidia_cufft_cu12-11.0.2.54-py3-none-manylinux1_x86_64.whl.metadata (1.5 kB)\n",
            "Collecting nvidia-curand-cu12==10.3.2.106 (from torch>=2->torchdata>=0.5.0->dgl->-r requirements.txt (line 4))\n",
            "  Downloading nvidia_curand_cu12-10.3.2.106-py3-none-manylinux1_x86_64.whl.metadata (1.5 kB)\n",
            "Collecting nvidia-cusolver-cu12==11.4.5.107 (from torch>=2->torchdata>=0.5.0->dgl->-r requirements.txt (line 4))\n",
            "  Downloading nvidia_cusolver_cu12-11.4.5.107-py3-none-manylinux1_x86_64.whl.metadata (1.6 kB)\n",
            "Collecting nvidia-cusparse-cu12==12.1.0.106 (from torch>=2->torchdata>=0.5.0->dgl->-r requirements.txt (line 4))\n",
            "  Downloading nvidia_cusparse_cu12-12.1.0.106-py3-none-manylinux1_x86_64.whl.metadata (1.6 kB)\n",
            "Collecting nvidia-nccl-cu12==2.20.5 (from torch>=2->torchdata>=0.5.0->dgl->-r requirements.txt (line 4))\n",
            "  Downloading nvidia_nccl_cu12-2.20.5-py3-none-manylinux2014_x86_64.whl.metadata (1.8 kB)\n",
            "Collecting nvidia-nvtx-cu12==12.1.105 (from torch>=2->torchdata>=0.5.0->dgl->-r requirements.txt (line 4))\n",
            "  Downloading nvidia_nvtx_cu12-12.1.105-py3-none-manylinux1_x86_64.whl.metadata (1.7 kB)\n",
            "Collecting triton==3.0.0 (from torch>=2->torchdata>=0.5.0->dgl->-r requirements.txt (line 4))\n",
            "  Downloading triton-3.0.0-1-cp38-cp38-manylinux2014_x86_64.manylinux_2_17_x86_64.whl.metadata (1.3 kB)\n",
            "Collecting nvidia-nvjitlink-cu12 (from nvidia-cusolver-cu12==11.4.5.107->torch>=2->torchdata>=0.5.0->dgl->-r requirements.txt (line 4))\n",
            "  Downloading nvidia_nvjitlink_cu12-12.9.86-py3-none-manylinux2010_x86_64.manylinux_2_12_x86_64.whl.metadata (1.7 kB)\n",
            "Collecting MarkupSafe>=2.0 (from jinja2->torch>=2->torchdata>=0.5.0->dgl->-r requirements.txt (line 4))\n",
            "  Downloading MarkupSafe-2.1.5-cp38-cp38-manylinux_2_17_x86_64.manylinux2014_x86_64.whl.metadata (3.0 kB)\n",
            "Collecting mpmath<1.4,>=1.1.0 (from sympy->torch>=2->torchdata>=0.5.0->dgl->-r requirements.txt (line 4))\n",
            "  Downloading mpmath-1.3.0-py3-none-any.whl.metadata (8.6 kB)\n",
            "Downloading xlrd-1.2.0-py2.py3-none-any.whl (103 kB)\n",
            "Downloading pandas-2.0.3-cp38-cp38-manylinux_2_17_x86_64.manylinux2014_x86_64.whl (12.4 MB)\n",
            "\u001b[2K   \u001b[90m━━━━━━━━━━━━━━━━━━━━━━━━━━━━━━━━━━━━━━━━\u001b[0m \u001b[32m12.4/12.4 MB\u001b[0m \u001b[31m136.4 MB/s\u001b[0m eta \u001b[36m0:00:00\u001b[0m\n",
            "\u001b[?25hDownloading tqdm-4.67.1-py3-none-any.whl (78 kB)\n",
            "Downloading matplotlib-3.7.5-cp38-cp38-manylinux_2_12_x86_64.manylinux2010_x86_64.whl (9.2 MB)\n",
            "\u001b[2K   \u001b[90m━━━━━━━━━━━━━━━━━━━━━━━━━━━━━━━━━━━━━━━━\u001b[0m \u001b[32m9.2/9.2 MB\u001b[0m \u001b[31m25.2 MB/s\u001b[0m eta \u001b[36m0:00:00\u001b[0m\n",
            "\u001b[?25hDownloading dgl-2.1.0-cp38-cp38-manylinux1_x86_64.whl (8.6 MB)\n",
            "\u001b[2K   \u001b[90m━━━━━━━━━━━━━━━━━━━━━━━━━━━━━━━━━━━━━━━━\u001b[0m \u001b[32m8.6/8.6 MB\u001b[0m \u001b[31m22.8 MB/s\u001b[0m eta \u001b[36m0:00:00\u001b[0m\n",
            "\u001b[?25hDownloading numpy-1.24.4-cp38-cp38-manylinux_2_17_x86_64.manylinux2014_x86_64.whl (17.3 MB)\n",
            "\u001b[2K   \u001b[90m━━━━━━━━━━━━━━━━━━━━━━━━━━━━━━━━━━━━━━━━\u001b[0m \u001b[32m17.3/17.3 MB\u001b[0m \u001b[31m31.5 MB/s\u001b[0m eta \u001b[36m0:00:00\u001b[0m\n",
            "\u001b[?25hDownloading SciencePlots-2.1.1-py3-none-any.whl (16 kB)\n",
            "Downloading scikit_learn-1.3.2-cp38-cp38-manylinux_2_17_x86_64.manylinux2014_x86_64.whl (11.1 MB)\n",
            "\u001b[2K   \u001b[90m━━━━━━━━━━━━━━━━━━━━━━━━━━━━━━━━━━━━━━━━\u001b[0m \u001b[32m11.1/11.1 MB\u001b[0m \u001b[31m76.3 MB/s\u001b[0m eta \u001b[36m0:00:00\u001b[0m\n",
            "\u001b[?25hDownloading contourpy-1.1.1-cp38-cp38-manylinux_2_17_x86_64.manylinux2014_x86_64.whl (301 kB)\n",
            "Downloading cycler-0.12.1-py3-none-any.whl (8.3 kB)\n",
            "Downloading fonttools-4.57.0-cp38-cp38-manylinux_2_17_x86_64.manylinux2014_x86_64.whl (4.7 MB)\n",
            "\u001b[2K   \u001b[90m━━━━━━━━━━━━━━━━━━━━━━━━━━━━━━━━━━━━━━━━\u001b[0m \u001b[32m4.7/4.7 MB\u001b[0m \u001b[31m65.0 MB/s\u001b[0m eta \u001b[36m0:00:00\u001b[0m\n",
            "\u001b[?25hDownloading importlib_resources-6.4.5-py3-none-any.whl (36 kB)\n",
            "Downloading joblib-1.4.2-py3-none-any.whl (301 kB)\n",
            "Downloading kiwisolver-1.4.7-cp38-cp38-manylinux_2_5_x86_64.manylinux1_x86_64.whl (1.2 MB)\n",
            "\u001b[2K   \u001b[90m━━━━━━━━━━━━━━━━━━━━━━━━━━━━━━━━━━━━━━━━\u001b[0m \u001b[32m1.2/1.2 MB\u001b[0m \u001b[31m54.3 MB/s\u001b[0m eta \u001b[36m0:00:00\u001b[0m\n",
            "\u001b[?25hDownloading networkx-3.1-py3-none-any.whl (2.1 MB)\n",
            "\u001b[2K   \u001b[90m━━━━━━━━━━━━━━━━━━━━━━━━━━━━━━━━━━━━━━━━\u001b[0m \u001b[32m2.1/2.1 MB\u001b[0m \u001b[31m33.8 MB/s\u001b[0m eta \u001b[36m0:00:00\u001b[0m\n",
            "\u001b[?25hDownloading packaging-25.0-py3-none-any.whl (66 kB)\n",
            "Downloading pillow-10.4.0-cp38-cp38-manylinux_2_28_x86_64.whl (4.5 MB)\n",
            "\u001b[2K   \u001b[90m━━━━━━━━━━━━━━━━━━━━━━━━━━━━━━━━━━━━━━━━\u001b[0m \u001b[32m4.5/4.5 MB\u001b[0m \u001b[31m102.8 MB/s\u001b[0m eta \u001b[36m0:00:00\u001b[0m\n",
            "\u001b[?25hDownloading psutil-7.0.0-cp36-abi3-manylinux_2_12_x86_64.manylinux2010_x86_64.manylinux_2_17_x86_64.manylinux2014_x86_64.whl (277 kB)\n",
            "Downloading pyparsing-3.1.4-py3-none-any.whl (104 kB)\n",
            "Downloading python_dateutil-2.9.0.post0-py2.py3-none-any.whl (229 kB)\n",
            "Downloading pytz-2025.2-py2.py3-none-any.whl (509 kB)\n",
            "Downloading requests-2.32.4-py3-none-any.whl (64 kB)\n",
            "Downloading scipy-1.10.1-cp38-cp38-manylinux_2_17_x86_64.manylinux2014_x86_64.whl (34.5 MB)\n",
            "\u001b[2K   \u001b[90m━━━━━━━━━━━━━━━━━━━━━━━━━━━━━━━━━━━━━━━━\u001b[0m \u001b[32m34.5/34.5 MB\u001b[0m \u001b[31m53.9 MB/s\u001b[0m eta \u001b[36m0:00:00\u001b[0m\n",
            "\u001b[?25hDownloading threadpoolctl-3.5.0-py3-none-any.whl (18 kB)\n",
            "Downloading torchdata-0.8.0-cp38-cp38-manylinux1_x86_64.whl (2.7 MB)\n",
            "\u001b[2K   \u001b[90m━━━━━━━━━━━━━━━━━━━━━━━━━━━━━━━━━━━━━━━━\u001b[0m \u001b[32m2.7/2.7 MB\u001b[0m \u001b[31m85.9 MB/s\u001b[0m eta \u001b[36m0:00:00\u001b[0m\n",
            "\u001b[?25hDownloading tzdata-2025.2-py2.py3-none-any.whl (347 kB)\n",
            "Downloading certifi-2025.8.3-py3-none-any.whl (161 kB)\n",
            "Downloading charset_normalizer-3.4.3-cp38-cp38-manylinux2014_x86_64.manylinux_2_17_x86_64.manylinux_2_28_x86_64.whl (147 kB)\n",
            "Downloading idna-3.10-py3-none-any.whl (70 kB)\n",
            "Downloading six-1.17.0-py2.py3-none-any.whl (11 kB)\n",
            "Downloading torch-2.4.1-cp38-cp38-manylinux1_x86_64.whl (797.1 MB)\n",
            "\u001b[2K   \u001b[90m━━━━━━━━━━━━━━━━━━━━━━━━━━━━━━━━━━━━━━━━\u001b[0m \u001b[32m797.1/797.1 MB\u001b[0m \u001b[31m27.6 MB/s\u001b[0m eta \u001b[36m0:00:00\u001b[0m\n",
            "\u001b[?25hDownloading nvidia_cublas_cu12-12.1.3.1-py3-none-manylinux1_x86_64.whl (410.6 MB)\n",
            "\u001b[2K   \u001b[90m━━━━━━━━━━━━━━━━━━━━━━━━━━━━━━━━━━━━━━━━\u001b[0m \u001b[32m410.6/410.6 MB\u001b[0m \u001b[31m41.9 MB/s\u001b[0m eta \u001b[36m0:00:00\u001b[0m\n",
            "\u001b[?25hDownloading nvidia_cuda_cupti_cu12-12.1.105-py3-none-manylinux1_x86_64.whl (14.1 MB)\n",
            "\u001b[2K   \u001b[90m━━━━━━━━━━━━━━━━━━━━━━━━━━━━━━━━━━━━━━━━\u001b[0m \u001b[32m14.1/14.1 MB\u001b[0m \u001b[31m147.5 MB/s\u001b[0m eta \u001b[36m0:00:00\u001b[0m\n",
            "\u001b[?25hDownloading nvidia_cuda_nvrtc_cu12-12.1.105-py3-none-manylinux1_x86_64.whl (23.7 MB)\n",
            "\u001b[2K   \u001b[90m━━━━━━━━━━━━━━━━━━━━━━━━━━━━━━━━━━━━━━━━\u001b[0m \u001b[32m23.7/23.7 MB\u001b[0m \u001b[31m132.6 MB/s\u001b[0m eta \u001b[36m0:00:00\u001b[0m\n",
            "\u001b[?25hDownloading nvidia_cuda_runtime_cu12-12.1.105-py3-none-manylinux1_x86_64.whl (823 kB)\n",
            "\u001b[2K   \u001b[90m━━━━━━━━━━━━━━━━━━━━━━━━━━━━━━━━━━━━━━━━\u001b[0m \u001b[32m823.6/823.6 kB\u001b[0m \u001b[31m47.0 MB/s\u001b[0m eta \u001b[36m0:00:00\u001b[0m\n",
            "\u001b[?25hDownloading nvidia_cudnn_cu12-9.1.0.70-py3-none-manylinux2014_x86_64.whl (664.8 MB)\n",
            "\u001b[2K   \u001b[90m━━━━━━━━━━━━━━━━━━━━━━━━━━━━━━━━━━━━━━━━\u001b[0m \u001b[32m664.8/664.8 MB\u001b[0m \u001b[31m32.6 MB/s\u001b[0m eta \u001b[36m0:00:00\u001b[0m\n",
            "\u001b[?25hDownloading nvidia_cufft_cu12-11.0.2.54-py3-none-manylinux1_x86_64.whl (121.6 MB)\n",
            "\u001b[2K   \u001b[90m━━━━━━━━━━━━━━━━━━━━━━━━━━━━━━━━━━━━━━━━\u001b[0m \u001b[32m121.6/121.6 MB\u001b[0m \u001b[31m80.4 MB/s\u001b[0m eta \u001b[36m0:00:00\u001b[0m\n",
            "\u001b[?25hDownloading nvidia_curand_cu12-10.3.2.106-py3-none-manylinux1_x86_64.whl (56.5 MB)\n",
            "\u001b[2K   \u001b[90m━━━━━━━━━━━━━━━━━━━━━━━━━━━━━━━━━━━━━━━━\u001b[0m \u001b[32m56.5/56.5 MB\u001b[0m \u001b[31m74.7 MB/s\u001b[0m eta \u001b[36m0:00:00\u001b[0m\n",
            "\u001b[?25hDownloading nvidia_cusolver_cu12-11.4.5.107-py3-none-manylinux1_x86_64.whl (124.2 MB)\n",
            "\u001b[2K   \u001b[90m━━━━━━━━━━━━━━━━━━━━━━━━━━━━━━━━━━━━━━━━\u001b[0m \u001b[32m124.2/124.2 MB\u001b[0m \u001b[31m56.8 MB/s\u001b[0m eta \u001b[36m0:00:00\u001b[0m\n",
            "\u001b[?25hDownloading nvidia_cusparse_cu12-12.1.0.106-py3-none-manylinux1_x86_64.whl (196.0 MB)\n",
            "\u001b[2K   \u001b[90m━━━━━━━━━━━━━━━━━━━━━━━━━━━━━━━━━━━━━━━━\u001b[0m \u001b[32m196.0/196.0 MB\u001b[0m \u001b[31m56.4 MB/s\u001b[0m eta \u001b[36m0:00:00\u001b[0m\n",
            "\u001b[?25hDownloading nvidia_nccl_cu12-2.20.5-py3-none-manylinux2014_x86_64.whl (176.2 MB)\n",
            "\u001b[2K   \u001b[90m━━━━━━━━━━━━━━━━━━━━━━━━━━━━━━━━━━━━━━━━\u001b[0m \u001b[32m176.2/176.2 MB\u001b[0m \u001b[31m68.7 MB/s\u001b[0m eta \u001b[36m0:00:00\u001b[0m\n",
            "\u001b[?25hDownloading nvidia_nvtx_cu12-12.1.105-py3-none-manylinux1_x86_64.whl (99 kB)\n",
            "Downloading triton-3.0.0-1-cp38-cp38-manylinux2014_x86_64.manylinux_2_17_x86_64.whl (209.4 MB)\n",
            "\u001b[2K   \u001b[90m━━━━━━━━━━━━━━━━━━━━━━━━━━━━━━━━━━━━━━━━\u001b[0m \u001b[32m209.4/209.4 MB\u001b[0m \u001b[31m49.5 MB/s\u001b[0m eta \u001b[36m0:00:00\u001b[0m\n",
            "\u001b[?25hDownloading urllib3-2.2.3-py3-none-any.whl (126 kB)\n",
            "Downloading zipp-3.20.2-py3-none-any.whl (9.2 kB)\n",
            "Downloading typing_extensions-4.13.2-py3-none-any.whl (45 kB)\n",
            "Downloading filelock-3.16.1-py3-none-any.whl (16 kB)\n",
            "Downloading fsspec-2025.3.0-py3-none-any.whl (193 kB)\n",
            "Downloading jinja2-3.1.6-py3-none-any.whl (134 kB)\n",
            "Downloading sympy-1.13.3-py3-none-any.whl (6.2 MB)\n",
            "\u001b[2K   \u001b[90m━━━━━━━━━━━━━━━━━━━━━━━━━━━━━━━━━━━━━━━━\u001b[0m \u001b[32m6.2/6.2 MB\u001b[0m \u001b[31m67.5 MB/s\u001b[0m eta \u001b[36m0:00:00\u001b[0m\n",
            "\u001b[?25hDownloading MarkupSafe-2.1.5-cp38-cp38-manylinux_2_17_x86_64.manylinux2014_x86_64.whl (26 kB)\n",
            "Downloading mpmath-1.3.0-py3-none-any.whl (536 kB)\n",
            "\u001b[2K   \u001b[90m━━━━━━━━━━━━━━━━━━━━━━━━━━━━━━━━━━━━━━━━\u001b[0m \u001b[32m536.2/536.2 kB\u001b[0m \u001b[31m23.7 MB/s\u001b[0m eta \u001b[36m0:00:00\u001b[0m\n",
            "\u001b[?25hDownloading nvidia_nvjitlink_cu12-12.9.86-py3-none-manylinux2010_x86_64.manylinux_2_12_x86_64.whl (39.7 MB)\n",
            "\u001b[2K   \u001b[90m━━━━━━━━━━━━━━━━━━━━━━━━━━━━━━━━━━━━━━━━\u001b[0m \u001b[32m39.7/39.7 MB\u001b[0m \u001b[31m74.7 MB/s\u001b[0m eta \u001b[36m0:00:00\u001b[0m\n",
            "\u001b[?25hInstalling collected packages: pytz, mpmath, zipp, xlrd, urllib3, tzdata, typing-extensions, tqdm, threadpoolctl, sympy, six, pyparsing, psutil, pillow, packaging, nvidia-nvtx-cu12, nvidia-nvjitlink-cu12, nvidia-nccl-cu12, nvidia-curand-cu12, nvidia-cufft-cu12, nvidia-cuda-runtime-cu12, nvidia-cuda-nvrtc-cu12, nvidia-cuda-cupti-cu12, nvidia-cublas-cu12, numpy, networkx, MarkupSafe, kiwisolver, joblib, idna, fsspec, fonttools, filelock, cycler, charset_normalizer, certifi, triton, scipy, requests, python-dateutil, nvidia-cusparse-cu12, nvidia-cudnn-cu12, jinja2, importlib-resources, contourpy, scikit-learn, pandas, nvidia-cusolver-cu12, matplotlib, torch, SciencePlots, torchdata, dgl\n",
            "Successfully installed MarkupSafe-2.1.5 SciencePlots-2.1.1 certifi-2025.8.3 charset_normalizer-3.4.3 contourpy-1.1.1 cycler-0.12.1 dgl-2.1.0 filelock-3.16.1 fonttools-4.57.0 fsspec-2025.3.0 idna-3.10 importlib-resources-6.4.5 jinja2-3.1.6 joblib-1.4.2 kiwisolver-1.4.7 matplotlib-3.7.5 mpmath-1.3.0 networkx-3.1 numpy-1.24.4 nvidia-cublas-cu12-12.1.3.1 nvidia-cuda-cupti-cu12-12.1.105 nvidia-cuda-nvrtc-cu12-12.1.105 nvidia-cuda-runtime-cu12-12.1.105 nvidia-cudnn-cu12-9.1.0.70 nvidia-cufft-cu12-11.0.2.54 nvidia-curand-cu12-10.3.2.106 nvidia-cusolver-cu12-11.4.5.107 nvidia-cusparse-cu12-12.1.0.106 nvidia-nccl-cu12-2.20.5 nvidia-nvjitlink-cu12-12.9.86 nvidia-nvtx-cu12-12.1.105 packaging-25.0 pandas-2.0.3 pillow-10.4.0 psutil-7.0.0 pyparsing-3.1.4 python-dateutil-2.9.0.post0 pytz-2025.2 requests-2.32.4 scikit-learn-1.3.2 scipy-1.10.1 six-1.17.0 sympy-1.13.3 threadpoolctl-3.5.0 torch-2.4.1 torchdata-0.8.0 tqdm-4.67.1 triton-3.0.0 typing-extensions-4.13.2 tzdata-2025.2 urllib3-2.2.3 xlrd-1.2.0 zipp-3.20.2\n"
          ]
        }
      ],
      "source": [
        "!../myenv/bin/pip install -r requirements.txt"
      ]
    },
    {
      "cell_type": "code",
      "execution_count": 6,
      "metadata": {
        "id": "x7SDM_Bj74B3",
        "colab": {
          "base_uri": "https://localhost:8080/"
        },
        "outputId": "e66cda5f-405e-4656-9ab7-86b01b7f4649"
      },
      "outputs": [
        {
          "output_type": "stream",
          "name": "stdout",
          "text": [
            "Python 3.8.20\n"
          ]
        }
      ],
      "source": [
        "!../myenv/bin/python -V"
      ]
    },
    {
      "cell_type": "code",
      "source": [
        "!ls"
      ],
      "metadata": {
        "colab": {
          "base_uri": "https://localhost:8080/"
        },
        "id": "sVGRuB5hEPlJ",
        "outputId": "303c24e3-39d0-4365-eb4c-e7227926b767"
      },
      "execution_count": 7,
      "outputs": [
        {
          "output_type": "stream",
          "name": "stdout",
          "text": [
            "data\t main.py  preprocess.py  requirements.txt  src\n",
            "LICENSE  plots\t  README.md\t results\n"
          ]
        }
      ]
    },
    {
      "cell_type": "code",
      "source": [
        "!../myenv/bin/pip install torch==2.0.0+cu117 torchvision==0.15.0+cu117 torchaudio==2.0.0+cu117 torchdata==0.7.1 -f https://download.pytorch.org/whl/torch_stable.html"
      ],
      "metadata": {
        "colab": {
          "base_uri": "https://localhost:8080/"
        },
        "id": "Odq6FwfkGfnO",
        "outputId": "27a4869f-031f-44d1-d2b0-706499fc54f4"
      },
      "execution_count": 8,
      "outputs": [
        {
          "output_type": "stream",
          "name": "stdout",
          "text": [
            "Looking in links: https://download.pytorch.org/whl/torch_stable.html\n",
            "Collecting torch==2.0.0+cu117\n",
            "  Downloading https://download.pytorch.org/whl/cu117/torch-2.0.0%2Bcu117-cp38-cp38-linux_x86_64.whl (1843.9 MB)\n",
            "\u001b[2K     \u001b[90m━━━━━━━━━━━━━━━━━━━━━━━━━━━━━━━━━━━━━━━━\u001b[0m \u001b[32m1.8/1.8 GB\u001b[0m \u001b[31m18.2 MB/s\u001b[0m eta \u001b[36m0:00:00\u001b[0m\n",
            "\u001b[?25hCollecting torchvision==0.15.0+cu117\n",
            "  Downloading https://download.pytorch.org/whl/cu117/torchvision-0.15.0%2Bcu117-cp38-cp38-linux_x86_64.whl (33.9 MB)\n",
            "\u001b[2K     \u001b[90m━━━━━━━━━━━━━━━━━━━━━━━━━━━━━━━━━━━━━━━\u001b[0m \u001b[32m33.9/33.9 MB\u001b[0m \u001b[31m159.2 MB/s\u001b[0m eta \u001b[36m0:00:00\u001b[0m\n",
            "\u001b[?25hCollecting torchaudio==2.0.0+cu117\n",
            "  Downloading https://download.pytorch.org/whl/cu117/torchaudio-2.0.0%2Bcu117-cp38-cp38-linux_x86_64.whl (4.4 MB)\n",
            "\u001b[2K     \u001b[90m━━━━━━━━━━━━━━━━━━━━━━━━━━━━━━━━━━━━━━━━\u001b[0m \u001b[32m4.4/4.4 MB\u001b[0m \u001b[31m96.0 MB/s\u001b[0m eta \u001b[36m0:00:00\u001b[0m\n",
            "\u001b[?25hCollecting torchdata==0.7.1\n",
            "  Downloading torchdata-0.7.1-cp38-cp38-manylinux_2_17_x86_64.manylinux2014_x86_64.whl.metadata (13 kB)\n",
            "Requirement already satisfied: filelock in /content/myenv/lib/python3.8/site-packages (from torch==2.0.0+cu117) (3.16.1)\n",
            "Requirement already satisfied: typing-extensions in /content/myenv/lib/python3.8/site-packages (from torch==2.0.0+cu117) (4.13.2)\n",
            "Requirement already satisfied: sympy in /content/myenv/lib/python3.8/site-packages (from torch==2.0.0+cu117) (1.13.3)\n",
            "Requirement already satisfied: networkx in /content/myenv/lib/python3.8/site-packages (from torch==2.0.0+cu117) (3.1)\n",
            "Requirement already satisfied: jinja2 in /content/myenv/lib/python3.8/site-packages (from torch==2.0.0+cu117) (3.1.6)\n",
            "Collecting triton==2.0.0 (from torch==2.0.0+cu117)\n",
            "  Downloading triton-2.0.0-1-cp38-cp38-manylinux2014_x86_64.manylinux_2_17_x86_64.whl.metadata (1.0 kB)\n",
            "Requirement already satisfied: numpy in /content/myenv/lib/python3.8/site-packages (from torchvision==0.15.0+cu117) (1.24.4)\n",
            "Requirement already satisfied: requests in /content/myenv/lib/python3.8/site-packages (from torchvision==0.15.0+cu117) (2.32.4)\n",
            "Requirement already satisfied: pillow!=8.3.*,>=5.3.0 in /content/myenv/lib/python3.8/site-packages (from torchvision==0.15.0+cu117) (10.4.0)\n",
            "Requirement already satisfied: urllib3>=1.25 in /content/myenv/lib/python3.8/site-packages (from torchdata==0.7.1) (2.2.3)\n",
            "Collecting cmake (from triton==2.0.0->torch==2.0.0+cu117)\n",
            "  Downloading cmake-4.1.0-py3-none-manylinux2014_x86_64.manylinux_2_17_x86_64.whl.metadata (6.5 kB)\n",
            "Collecting lit (from triton==2.0.0->torch==2.0.0+cu117)\n",
            "  Downloading lit-18.1.8-py3-none-any.whl.metadata (2.5 kB)\n",
            "Requirement already satisfied: MarkupSafe>=2.0 in /content/myenv/lib/python3.8/site-packages (from jinja2->torch==2.0.0+cu117) (2.1.5)\n",
            "Requirement already satisfied: charset_normalizer<4,>=2 in /content/myenv/lib/python3.8/site-packages (from requests->torchvision==0.15.0+cu117) (3.4.3)\n",
            "Requirement already satisfied: idna<4,>=2.5 in /content/myenv/lib/python3.8/site-packages (from requests->torchvision==0.15.0+cu117) (3.10)\n",
            "Requirement already satisfied: certifi>=2017.4.17 in /content/myenv/lib/python3.8/site-packages (from requests->torchvision==0.15.0+cu117) (2025.8.3)\n",
            "Requirement already satisfied: mpmath<1.4,>=1.1.0 in /content/myenv/lib/python3.8/site-packages (from sympy->torch==2.0.0+cu117) (1.3.0)\n",
            "Downloading torchdata-0.7.1-cp38-cp38-manylinux_2_17_x86_64.manylinux2014_x86_64.whl (4.7 MB)\n",
            "\u001b[2K   \u001b[90m━━━━━━━━━━━━━━━━━━━━━━━━━━━━━━━━━━━━━━━━\u001b[0m \u001b[32m4.7/4.7 MB\u001b[0m \u001b[31m2.5 MB/s\u001b[0m eta \u001b[36m0:00:00\u001b[0m\n",
            "\u001b[?25hDownloading triton-2.0.0-1-cp38-cp38-manylinux2014_x86_64.manylinux_2_17_x86_64.whl (63.2 MB)\n",
            "\u001b[2K   \u001b[90m━━━━━━━━━━━━━━━━━━━━━━━━━━━━━━━━━━━━━━━━\u001b[0m \u001b[32m63.2/63.2 MB\u001b[0m \u001b[31m89.7 MB/s\u001b[0m eta \u001b[36m0:00:00\u001b[0m\n",
            "\u001b[?25hDownloading cmake-4.1.0-py3-none-manylinux2014_x86_64.manylinux_2_17_x86_64.whl (29.7 MB)\n",
            "\u001b[2K   \u001b[90m━━━━━━━━━━━━━━━━━━━━━━━━━━━━━━━━━━━━━━━━\u001b[0m \u001b[32m29.7/29.7 MB\u001b[0m \u001b[31m142.2 MB/s\u001b[0m eta \u001b[36m0:00:00\u001b[0m\n",
            "\u001b[?25hDownloading lit-18.1.8-py3-none-any.whl (96 kB)\n",
            "Installing collected packages: lit, cmake, triton, torch, torchvision, torchdata, torchaudio\n",
            "  Attempting uninstall: triton\n",
            "    Found existing installation: triton 3.0.0\n",
            "    Uninstalling triton-3.0.0:\n",
            "      Successfully uninstalled triton-3.0.0\n",
            "  Attempting uninstall: torch\n",
            "    Found existing installation: torch 2.4.1\n",
            "    Uninstalling torch-2.4.1:\n",
            "      Successfully uninstalled torch-2.4.1\n",
            "  Attempting uninstall: torchdata\n",
            "    Found existing installation: torchdata 0.8.0\n",
            "    Uninstalling torchdata-0.8.0:\n",
            "      Successfully uninstalled torchdata-0.8.0\n",
            "Successfully installed cmake-4.1.0 lit-18.1.8 torch-2.0.0+cu117 torchaudio-2.0.0+cu117 torchdata-0.7.1 torchvision-0.15.0+cu117 triton-2.0.0\n"
          ]
        }
      ]
    },
    {
      "cell_type": "code",
      "source": [
        "!../myenv/bin/pip install pyyaml"
      ],
      "metadata": {
        "colab": {
          "base_uri": "https://localhost:8080/"
        },
        "id": "Ix_B4EgXIfyj",
        "outputId": "7708209b-e10a-4d77-dfc8-5277084544cc"
      },
      "execution_count": 9,
      "outputs": [
        {
          "output_type": "stream",
          "name": "stdout",
          "text": [
            "Collecting pyyaml\n",
            "  Downloading PyYAML-6.0.2-cp38-cp38-manylinux_2_17_x86_64.manylinux2014_x86_64.whl.metadata (2.1 kB)\n",
            "Downloading PyYAML-6.0.2-cp38-cp38-manylinux_2_17_x86_64.manylinux2014_x86_64.whl (746 kB)\n",
            "\u001b[?25l   \u001b[90m━━━━━━━━━━━━━━━━━━━━━━━━━━━━━━━━━━━━━━━━\u001b[0m \u001b[32m0.0/746.5 kB\u001b[0m \u001b[31m?\u001b[0m eta \u001b[36m-:--:--\u001b[0m\r\u001b[2K   \u001b[90m━━━━━━━━━━━━━━━━━━━━━━━━━━━━━━━━━━━━━━━━\u001b[0m \u001b[32m746.5/746.5 kB\u001b[0m \u001b[31m21.8 MB/s\u001b[0m eta \u001b[36m0:00:00\u001b[0m\n",
            "\u001b[?25hInstalling collected packages: pyyaml\n",
            "Successfully installed pyyaml-6.0.2\n"
          ]
        }
      ]
    },
    {
      "cell_type": "code",
      "source": [
        "!../myenv/bin/pip install pydantic"
      ],
      "metadata": {
        "colab": {
          "base_uri": "https://localhost:8080/"
        },
        "id": "RpcHHCiwIrJO",
        "outputId": "38be3ae1-e2e0-43f6-8b8c-3d464d6e6f20"
      },
      "execution_count": 10,
      "outputs": [
        {
          "output_type": "stream",
          "name": "stdout",
          "text": [
            "Collecting pydantic\n",
            "  Downloading pydantic-2.10.6-py3-none-any.whl.metadata (30 kB)\n",
            "Collecting annotated-types>=0.6.0 (from pydantic)\n",
            "  Downloading annotated_types-0.7.0-py3-none-any.whl.metadata (15 kB)\n",
            "Collecting pydantic-core==2.27.2 (from pydantic)\n",
            "  Downloading pydantic_core-2.27.2-cp38-cp38-manylinux_2_17_x86_64.manylinux2014_x86_64.whl.metadata (6.6 kB)\n",
            "Requirement already satisfied: typing-extensions>=4.12.2 in /content/myenv/lib/python3.8/site-packages (from pydantic) (4.13.2)\n",
            "Downloading pydantic-2.10.6-py3-none-any.whl (431 kB)\n",
            "Downloading pydantic_core-2.27.2-cp38-cp38-manylinux_2_17_x86_64.manylinux2014_x86_64.whl (2.0 MB)\n",
            "\u001b[2K   \u001b[90m━━━━━━━━━━━━━━━━━━━━━━━━━━━━━━━━━━━━━━━━\u001b[0m \u001b[32m2.0/2.0 MB\u001b[0m \u001b[31m56.0 MB/s\u001b[0m eta \u001b[36m0:00:00\u001b[0m\n",
            "\u001b[?25hDownloading annotated_types-0.7.0-py3-none-any.whl (13 kB)\n",
            "Installing collected packages: pydantic-core, annotated-types, pydantic\n",
            "Successfully installed annotated-types-0.7.0 pydantic-2.10.6 pydantic-core-2.27.2\n"
          ]
        }
      ]
    },
    {
      "cell_type": "code",
      "source": [
        "!../myenv/bin/pip install matplotlib_inline"
      ],
      "metadata": {
        "colab": {
          "base_uri": "https://localhost:8080/"
        },
        "id": "lhBOyMtUKmKl",
        "outputId": "7e9920f2-10cc-448f-cb5e-1f73ae19f76a"
      },
      "execution_count": 12,
      "outputs": [
        {
          "output_type": "stream",
          "name": "stdout",
          "text": [
            "Requirement already satisfied: matplotlib_inline in /content/myenv/lib/python3.8/site-packages (0.1.7)\n",
            "Requirement already satisfied: traitlets in /content/myenv/lib/python3.8/site-packages (from matplotlib_inline) (5.14.3)\n"
          ]
        }
      ]
    },
    {
      "cell_type": "code",
      "source": [
        "!../myenv/bin/pip install ipython"
      ],
      "metadata": {
        "colab": {
          "base_uri": "https://localhost:8080/"
        },
        "id": "zMevJXyKK0PL",
        "outputId": "dae8332b-4ac4-4db5-ea64-c2c3e764ff98"
      },
      "execution_count": 11,
      "outputs": [
        {
          "output_type": "stream",
          "name": "stdout",
          "text": [
            "Collecting ipython\n",
            "  Downloading ipython-8.12.3-py3-none-any.whl.metadata (5.7 kB)\n",
            "Collecting backcall (from ipython)\n",
            "  Downloading backcall-0.2.0-py2.py3-none-any.whl.metadata (2.0 kB)\n",
            "Collecting decorator (from ipython)\n",
            "  Downloading decorator-5.2.1-py3-none-any.whl.metadata (3.9 kB)\n",
            "Collecting jedi>=0.16 (from ipython)\n",
            "  Downloading jedi-0.19.2-py2.py3-none-any.whl.metadata (22 kB)\n",
            "Collecting matplotlib-inline (from ipython)\n",
            "  Downloading matplotlib_inline-0.1.7-py3-none-any.whl.metadata (3.9 kB)\n",
            "Collecting pickleshare (from ipython)\n",
            "  Downloading pickleshare-0.7.5-py2.py3-none-any.whl.metadata (1.5 kB)\n",
            "Collecting prompt-toolkit!=3.0.37,<3.1.0,>=3.0.30 (from ipython)\n",
            "  Downloading prompt_toolkit-3.0.52-py3-none-any.whl.metadata (6.4 kB)\n",
            "Collecting pygments>=2.4.0 (from ipython)\n",
            "  Downloading pygments-2.19.2-py3-none-any.whl.metadata (2.5 kB)\n",
            "Collecting stack-data (from ipython)\n",
            "  Downloading stack_data-0.6.3-py3-none-any.whl.metadata (18 kB)\n",
            "Collecting traitlets>=5 (from ipython)\n",
            "  Downloading traitlets-5.14.3-py3-none-any.whl.metadata (10 kB)\n",
            "Requirement already satisfied: typing-extensions in /content/myenv/lib/python3.8/site-packages (from ipython) (4.13.2)\n",
            "Collecting pexpect>4.3 (from ipython)\n",
            "  Downloading pexpect-4.9.0-py2.py3-none-any.whl.metadata (2.5 kB)\n",
            "Collecting parso<0.9.0,>=0.8.4 (from jedi>=0.16->ipython)\n",
            "  Downloading parso-0.8.5-py2.py3-none-any.whl.metadata (8.3 kB)\n",
            "Collecting ptyprocess>=0.5 (from pexpect>4.3->ipython)\n",
            "  Downloading ptyprocess-0.7.0-py2.py3-none-any.whl.metadata (1.3 kB)\n",
            "Collecting wcwidth (from prompt-toolkit!=3.0.37,<3.1.0,>=3.0.30->ipython)\n",
            "  Downloading wcwidth-0.2.13-py2.py3-none-any.whl.metadata (14 kB)\n",
            "Collecting executing>=1.2.0 (from stack-data->ipython)\n",
            "  Downloading executing-2.2.1-py2.py3-none-any.whl.metadata (8.9 kB)\n",
            "Collecting asttokens>=2.1.0 (from stack-data->ipython)\n",
            "  Downloading asttokens-3.0.0-py3-none-any.whl.metadata (4.7 kB)\n",
            "Collecting pure-eval (from stack-data->ipython)\n",
            "  Downloading pure_eval-0.2.3-py3-none-any.whl.metadata (6.3 kB)\n",
            "Downloading ipython-8.12.3-py3-none-any.whl (798 kB)\n",
            "\u001b[2K   \u001b[90m━━━━━━━━━━━━━━━━━━━━━━━━━━━━━━━━━━━━━━━━\u001b[0m \u001b[32m798.3/798.3 kB\u001b[0m \u001b[31m20.3 MB/s\u001b[0m eta \u001b[36m0:00:00\u001b[0m\n",
            "\u001b[?25hDownloading jedi-0.19.2-py2.py3-none-any.whl (1.6 MB)\n",
            "\u001b[2K   \u001b[90m━━━━━━━━━━━━━━━━━━━━━━━━━━━━━━━━━━━━━━━━\u001b[0m \u001b[32m1.6/1.6 MB\u001b[0m \u001b[31m56.6 MB/s\u001b[0m eta \u001b[36m0:00:00\u001b[0m\n",
            "\u001b[?25hDownloading pexpect-4.9.0-py2.py3-none-any.whl (63 kB)\n",
            "Downloading prompt_toolkit-3.0.52-py3-none-any.whl (391 kB)\n",
            "Downloading pygments-2.19.2-py3-none-any.whl (1.2 MB)\n",
            "\u001b[2K   \u001b[90m━━━━━━━━━━━━━━━━━━━━━━━━━━━━━━━━━━━━━━━━\u001b[0m \u001b[32m1.2/1.2 MB\u001b[0m \u001b[31m71.4 MB/s\u001b[0m eta \u001b[36m0:00:00\u001b[0m\n",
            "\u001b[?25hDownloading traitlets-5.14.3-py3-none-any.whl (85 kB)\n",
            "Downloading backcall-0.2.0-py2.py3-none-any.whl (11 kB)\n",
            "Downloading decorator-5.2.1-py3-none-any.whl (9.2 kB)\n",
            "Downloading matplotlib_inline-0.1.7-py3-none-any.whl (9.9 kB)\n",
            "Downloading pickleshare-0.7.5-py2.py3-none-any.whl (6.9 kB)\n",
            "Downloading stack_data-0.6.3-py3-none-any.whl (24 kB)\n",
            "Downloading asttokens-3.0.0-py3-none-any.whl (26 kB)\n",
            "Downloading executing-2.2.1-py2.py3-none-any.whl (28 kB)\n",
            "Downloading parso-0.8.5-py2.py3-none-any.whl (106 kB)\n",
            "Downloading ptyprocess-0.7.0-py2.py3-none-any.whl (13 kB)\n",
            "Downloading pure_eval-0.2.3-py3-none-any.whl (11 kB)\n",
            "Downloading wcwidth-0.2.13-py2.py3-none-any.whl (34 kB)\n",
            "Installing collected packages: wcwidth, pure-eval, ptyprocess, pickleshare, backcall, traitlets, pygments, prompt-toolkit, pexpect, parso, executing, decorator, asttokens, stack-data, matplotlib-inline, jedi, ipython\n",
            "Successfully installed asttokens-3.0.0 backcall-0.2.0 decorator-5.2.1 executing-2.2.1 ipython-8.12.3 jedi-0.19.2 matplotlib-inline-0.1.7 parso-0.8.5 pexpect-4.9.0 pickleshare-0.7.5 prompt-toolkit-3.0.52 ptyprocess-0.7.0 pure-eval-0.2.3 pygments-2.19.2 stack-data-0.6.3 traitlets-5.14.3 wcwidth-0.2.13\n"
          ]
        }
      ]
    },
    {
      "cell_type": "markdown",
      "source": [
        "If you are using the dataset from the **TranAD/data** folder, you can process it using the `preprocess.py` script.  \n",
        "Otherwise, you may skip this step and instead upload your preprocessed dataset into a folder named **ours** inside the **TranAD/processed** directory."
      ],
      "metadata": {
        "id": "aOlKEEgR416U"
      }
    },
    {
      "cell_type": "code",
      "source": [
        "!../myenv/bin/python preprocess.py SWaT"
      ],
      "metadata": {
        "id": "fPzTQvAi4ORz"
      },
      "execution_count": 13,
      "outputs": []
    },
    {
      "cell_type": "markdown",
      "source": [
        "Before Running the model, make sure you are using the updated codes provided in https://github.com/bkor-git/AD-Project.git"
      ],
      "metadata": {
        "id": "W8nidmMb6O9e"
      }
    },
    {
      "cell_type": "markdown",
      "source": [
        "**IMPORTANT**\n",
        "Before Running the TranAD model, follow these steps:\n",
        "\n",
        "\n",
        "1.   go to myenv/lib/python3.8/site-packages/torch/nn/modules/transformer.py\n",
        "2.   in line 306, remove is_causal=is_causal\n"
      ],
      "metadata": {
        "id": "WqW2Xp2t6qF0"
      }
    },
    {
      "cell_type": "code",
      "execution_count": 15,
      "metadata": {
        "id": "Gr_aooVEhpAm",
        "colab": {
          "base_uri": "https://localhost:8080/"
        },
        "outputId": "8665910e-b921-4b7f-ff9f-92578d69ea5b"
      },
      "outputs": [
        {
          "output_type": "stream",
          "name": "stdout",
          "text": [
            "\u001b[92mCreating new model: TranAD\u001b[0m\n",
            "\u001b[95mTraining TranAD on SWaT\u001b[0m\n",
            "Epoch 0,\tL1 = 0.05492589443216243\n",
            "Epoch 1,\tL1 = 0.03162632213021734\n",
            "Epoch 2,\tL1 = 0.021859628114228192\n",
            "Epoch 3,\tL1 = 0.02000500602977056\n",
            "Epoch 4,\tL1 = 0.019062143979367528\n",
            "100% 5/5 [00:01<00:00,  3.42it/s]\n",
            "\u001b[1mTraining time:     1.4627 s\u001b[0m\n",
            "findfont: Generic family 'serif' not found because none of the following families were found: Times\n",
            "findfont: Generic family 'serif' not found because none of the following families were found: Times\n",
            "findfont: Generic family 'serif' not found because none of the following families were found: Times\n",
            "findfont: Generic family 'serif' not found because none of the following families were found: Times\n",
            "findfont: Generic family 'serif' not found because none of the following families were found: Times\n",
            "findfont: Generic family 'serif' not found because none of the following families were found: Times\n",
            "findfont: Generic family 'serif' not found because none of the following families were found: Times\n",
            "findfont: Generic family 'serif' not found because none of the following families were found: Times\n",
            "findfont: Generic family 'serif' not found because none of the following families were found: Times\n",
            "findfont: Generic family 'serif' not found because none of the following families were found: Times\n",
            "findfont: Generic family 'serif' not found because none of the following families were found: Times\n",
            "findfont: Generic family 'serif' not found because none of the following families were found: Times\n",
            "findfont: Generic family 'serif' not found because none of the following families were found: Times\n",
            "findfont: Generic family 'serif' not found because none of the following families were found: Times\n",
            "findfont: Generic family 'serif' not found because none of the following families were found: Times\n",
            "findfont: Generic family 'serif' not found because none of the following families were found: Times\n",
            "findfont: Generic family 'serif' not found because none of the following families were found: Times\n",
            "findfont: Generic family 'serif' not found because none of the following families were found: Times\n",
            "findfont: Generic family 'serif' not found because none of the following families were found: Times\n",
            "findfont: Generic family 'serif' not found because none of the following families were found: Times\n",
            "findfont: Generic family 'serif' not found because none of the following families were found: Times\n",
            "findfont: Generic family 'serif' not found because none of the following families were found: Times\n",
            "findfont: Generic family 'serif' not found because none of the following families were found: Times\n",
            "findfont: Generic family 'serif' not found because none of the following families were found: Times\n",
            "findfont: Generic family 'serif' not found because none of the following families were found: Times\n",
            "findfont: Generic family 'serif' not found because none of the following families were found: Times\n",
            "findfont: Generic family 'serif' not found because none of the following families were found: Times\n",
            "findfont: Generic family 'serif' not found because none of the following families were found: Times\n",
            "findfont: Generic family 'serif' not found because none of the following families were found: Times\n",
            "findfont: Generic family 'serif' not found because none of the following families were found: Times\n",
            "findfont: Generic family 'serif' not found because none of the following families were found: Times\n",
            "findfont: Generic family 'serif' not found because none of the following families were found: Times\n",
            "findfont: Generic family 'serif' not found because none of the following families were found: Times\n",
            "findfont: Generic family 'serif' not found because none of the following families were found: Times\n",
            "findfont: Generic family 'serif' not found because none of the following families were found: Times\n",
            "findfont: Generic family 'serif' not found because none of the following families were found: Times\n",
            "findfont: Generic family 'serif' not found because none of the following families were found: Times\n",
            "findfont: Generic family 'serif' not found because none of the following families were found: Times\n",
            "findfont: Generic family 'serif' not found because none of the following families were found: Times\n",
            "findfont: Generic family 'serif' not found because none of the following families were found: Times\n",
            "findfont: Generic family 'serif' not found because none of the following families were found: Times\n",
            "findfont: Generic family 'serif' not found because none of the following families were found: Times\n",
            "findfont: Generic family 'serif' not found because none of the following families were found: Times\n",
            "findfont: Generic family 'serif' not found because none of the following families were found: Times\n",
            "findfont: Generic family 'serif' not found because none of the following families were found: Times\n",
            "findfont: Generic family 'serif' not found because none of the following families were found: Times\n",
            "findfont: Generic family 'serif' not found because none of the following families were found: Times\n",
            "findfont: Generic family 'serif' not found because none of the following families were found: Times\n",
            "findfont: Generic family 'serif' not found because none of the following families were found: Times\n",
            "findfont: Generic family 'serif' not found because none of the following families were found: Times\n",
            "findfont: Generic family 'serif' not found because none of the following families were found: Times\n",
            "findfont: Generic family 'serif' not found because none of the following families were found: Times\n",
            "findfont: Generic family 'serif' not found because none of the following families were found: Times\n",
            "findfont: Generic family 'serif' not found because none of the following families were found: Times\n",
            "findfont: Generic family 'serif' not found because none of the following families were found: Times\n",
            "findfont: Generic family 'serif' not found because none of the following families were found: Times\n",
            "findfont: Generic family 'serif' not found because none of the following families were found: Times\n",
            "findfont: Generic family 'serif' not found because none of the following families were found: Times\n",
            "findfont: Generic family 'serif' not found because none of the following families were found: Times\n",
            "findfont: Generic family 'serif' not found because none of the following families were found: Times\n",
            "findfont: Generic family 'serif' not found because none of the following families were found: Times\n",
            "findfont: Generic family 'serif' not found because none of the following families were found: Times\n",
            "findfont: Generic family 'serif' not found because none of the following families were found: Times\n",
            "findfont: Generic family 'serif' not found because none of the following families were found: Times\n",
            "findfont: Generic family 'serif' not found because none of the following families were found: Times\n",
            "findfont: Generic family 'serif' not found because none of the following families were found: Times\n",
            "findfont: Generic family 'serif' not found because none of the following families were found: Times\n",
            "findfont: Generic family 'serif' not found because none of the following families were found: Times\n",
            "findfont: Generic family 'serif' not found because none of the following families were found: Times\n",
            "findfont: Generic family 'serif' not found because none of the following families were found: Times\n",
            "findfont: Generic family 'serif' not found because none of the following families were found: Times\n",
            "findfont: Generic family 'serif' not found because none of the following families were found: Times\n",
            "findfont: Generic family 'serif' not found because none of the following families were found: Times\n",
            "findfont: Generic family 'serif' not found because none of the following families were found: Times\n",
            "findfont: Generic family 'serif' not found because none of the following families were found: Times\n",
            "findfont: Generic family 'serif' not found because none of the following families were found: Times\n",
            "findfont: Generic family 'serif' not found because none of the following families were found: Times\n",
            "findfont: Generic family 'serif' not found because none of the following families were found: Times\n",
            "findfont: Generic family 'serif' not found because none of the following families were found: Times\n",
            "findfont: Generic family 'serif' not found because none of the following families were found: Times\n",
            "findfont: Generic family 'serif' not found because none of the following families were found: Times\n",
            "findfont: Generic family 'serif' not found because none of the following families were found: Times\n",
            "findfont: Generic family 'serif' not found because none of the following families were found: Times\n",
            "findfont: Generic family 'serif' not found because none of the following families were found: Times\n",
            "findfont: Generic family 'serif' not found because none of the following families were found: Times\n",
            "findfont: Generic family 'serif' not found because none of the following families were found: Times\n",
            "findfont: Generic family 'serif' not found because none of the following families were found: Times\n",
            "findfont: Generic family 'serif' not found because none of the following families were found: Times\n",
            "findfont: Generic family 'serif' not found because none of the following families were found: Times\n",
            "findfont: Generic family 'serif' not found because none of the following families were found: Times\n",
            "findfont: Generic family 'serif' not found because none of the following families were found: Times\n",
            "findfont: Generic family 'serif' not found because none of the following families were found: Times\n",
            "findfont: Generic family 'serif' not found because none of the following families were found: Times\n",
            "findfont: Generic family 'serif' not found because none of the following families were found: Times\n",
            "findfont: Generic family 'serif' not found because none of the following families were found: Times\n",
            "findfont: Generic family 'serif' not found because none of the following families were found: Times\n",
            "findfont: Generic family 'serif' not found because none of the following families were found: Times\n",
            "findfont: Generic family 'serif' not found because none of the following families were found: Times\n",
            "findfont: Generic family 'serif' not found because none of the following families were found: Times\n",
            "findfont: Generic family 'serif' not found because none of the following families were found: Times\n",
            "findfont: Generic family 'serif' not found because none of the following families were found: Times\n",
            "findfont: Generic family 'serif' not found because none of the following families were found: Times\n",
            "findfont: Generic family 'serif' not found because none of the following families were found: Times\n",
            "\u001b[95mTesting on Training TranAD on SWaT\u001b[0m\n",
            "Pprediction on training set\n",
            "\u001b[95mTesting TranAD on SWaT\u001b[0m\n",
            "findfont: Generic family 'serif' not found because none of the following families were found: Times\n",
            "findfont: Generic family 'serif' not found because none of the following families were found: Times\n",
            "findfont: Generic family 'serif' not found because none of the following families were found: Times\n",
            "findfont: Generic family 'serif' not found because none of the following families were found: Times\n",
            "findfont: Generic family 'serif' not found because none of the following families were found: Times\n",
            "findfont: Generic family 'serif' not found because none of the following families were found: Times\n",
            "findfont: Generic family 'serif' not found because none of the following families were found: Times\n",
            "findfont: Generic family 'serif' not found because none of the following families were found: Times\n",
            "findfont: Generic family 'serif' not found because none of the following families were found: Times\n",
            "findfont: Generic family 'serif' not found because none of the following families were found: Times\n",
            "findfont: Generic family 'serif' not found because none of the following families were found: Times\n",
            "findfont: Generic family 'serif' not found because none of the following families were found: Times\n",
            "findfont: Generic family 'serif' not found because none of the following families were found: Times\n",
            "findfont: Generic family 'serif' not found because none of the following families were found: Times\n",
            "findfont: Generic family 'serif' not found because none of the following families were found: Times\n",
            "findfont: Generic family 'serif' not found because none of the following families were found: Times\n",
            "findfont: Generic family 'serif' not found because none of the following families were found: Times\n",
            "findfont: Generic family 'serif' not found because none of the following families were found: Times\n",
            "findfont: Generic family 'serif' not found because none of the following families were found: Times\n",
            "findfont: Generic family 'serif' not found because none of the following families were found: Times\n",
            "findfont: Generic family 'serif' not found because none of the following families were found: Times\n",
            "findfont: Generic family 'serif' not found because none of the following families were found: Times\n",
            "findfont: Generic family 'serif' not found because none of the following families were found: Times\n",
            "findfont: Generic family 'serif' not found because none of the following families were found: Times\n",
            "findfont: Generic family 'serif' not found because none of the following families were found: Times\n",
            "findfont: Generic family 'serif' not found because none of the following families were found: Times\n",
            "findfont: Generic family 'serif' not found because none of the following families were found: Times\n",
            "findfont: Generic family 'serif' not found because none of the following families were found: Times\n",
            "findfont: Generic family 'serif' not found because none of the following families were found: Times\n",
            "findfont: Generic family 'serif' not found because none of the following families were found: Times\n",
            "findfont: Generic family 'serif' not found because none of the following families were found: Times\n",
            "findfont: Generic family 'serif' not found because none of the following families were found: Times\n",
            "findfont: Generic family 'serif' not found because none of the following families were found: Times\n",
            "findfont: Generic family 'serif' not found because none of the following families were found: Times\n",
            "findfont: Generic family 'serif' not found because none of the following families were found: Times\n",
            "findfont: Generic family 'serif' not found because none of the following families were found: Times\n",
            "findfont: Generic family 'serif' not found because none of the following families were found: Times\n",
            "findfont: Generic family 'serif' not found because none of the following families were found: Times\n",
            "findfont: Generic family 'serif' not found because none of the following families were found: Times\n",
            "findfont: Generic family 'serif' not found because none of the following families were found: Times\n",
            "findfont: Generic family 'serif' not found because none of the following families were found: Times\n",
            "findfont: Generic family 'serif' not found because none of the following families were found: Times\n",
            "findfont: Generic family 'serif' not found because none of the following families were found: Times\n",
            "findfont: Generic family 'serif' not found because none of the following families were found: Times\n",
            "findfont: Generic family 'serif' not found because none of the following families were found: Times\n",
            "findfont: Generic family 'serif' not found because none of the following families were found: Times\n",
            "findfont: Generic family 'serif' not found because none of the following families were found: Times\n",
            "findfont: Generic family 'serif' not found because none of the following families were found: Times\n",
            "findfont: Generic family 'serif' not found because none of the following families were found: Times\n",
            "findfont: Generic family 'serif' not found because none of the following families were found: Times\n",
            "findfont: Generic family 'serif' not found because none of the following families were found: Times\n",
            "findfont: Generic family 'serif' not found because none of the following families were found: Times\n",
            "findfont: Generic family 'serif' not found because none of the following families were found: Times\n",
            "findfont: Generic family 'serif' not found because none of the following families were found: Times\n",
            "findfont: Generic family 'serif' not found because none of the following families were found: Times\n",
            "findfont: Generic family 'serif' not found because none of the following families were found: Times\n",
            "findfont: Generic family 'serif' not found because none of the following families were found: Times\n",
            "findfont: Generic family 'serif' not found because none of the following families were found: Times\n",
            "findfont: Generic family 'serif' not found because none of the following families were found: Times\n",
            "findfont: Generic family 'serif' not found because none of the following families were found: Times\n",
            "findfont: Generic family 'serif' not found because none of the following families were found: Times\n",
            "findfont: Generic family 'serif' not found because none of the following families were found: Times\n",
            "findfont: Generic family 'serif' not found because none of the following families were found: Times\n",
            "findfont: Generic family 'serif' not found because none of the following families were found: Times\n",
            "findfont: Generic family 'serif' not found because none of the following families were found: Times\n",
            "findfont: Generic family 'serif' not found because none of the following families were found: Times\n",
            "findfont: Generic family 'serif' not found because none of the following families were found: Times\n",
            "findfont: Generic family 'serif' not found because none of the following families were found: Times\n",
            "findfont: Generic family 'serif' not found because none of the following families were found: Times\n",
            "findfont: Generic family 'serif' not found because none of the following families were found: Times\n",
            "findfont: Generic family 'serif' not found because none of the following families were found: Times\n",
            "findfont: Generic family 'serif' not found because none of the following families were found: Times\n",
            "findfont: Generic family 'serif' not found because none of the following families were found: Times\n",
            "findfont: Generic family 'serif' not found because none of the following families were found: Times\n",
            "findfont: Generic family 'serif' not found because none of the following families were found: Times\n",
            "findfont: Generic family 'serif' not found because none of the following families were found: Times\n",
            "findfont: Generic family 'serif' not found because none of the following families were found: Times\n",
            "findfont: Generic family 'serif' not found because none of the following families were found: Times\n",
            "findfont: Generic family 'serif' not found because none of the following families were found: Times\n",
            "findfont: Generic family 'serif' not found because none of the following families were found: Times\n",
            "findfont: Generic family 'serif' not found because none of the following families were found: Times\n",
            "findfont: Generic family 'serif' not found because none of the following families were found: Times\n",
            "         f1  ...  threshold\n",
            "0  0.606907  ...   0.276499\n",
            "\n",
            "[1 rows x 9 columns]\n",
            "{'FN': 363,\n",
            " 'FP': 1,\n",
            " 'Hit@100%': 1.0,\n",
            " 'Hit@150%': 1.0,\n",
            " 'ROC/AUC': 0.7180529176576609,\n",
            " 'TN': 4355,\n",
            " 'TP': 281,\n",
            " 'f1': 0.6069071981318684,\n",
            " 'precision': 0.9964538653739765,\n",
            " 'recall': 0.43633539695131374,\n",
            " 'threshold': 0.27649930852134913}\n"
          ]
        }
      ],
      "source": [
        "!../myenv/bin/python main.py --model TranAD --dataset SWaT --retrain"
      ]
    },
    {
      "cell_type": "code",
      "source": [
        "# Download CSV files generate by the models!"
      ],
      "metadata": {
        "id": "Ai0p2NGQBfmd"
      },
      "execution_count": 16,
      "outputs": []
    },
    {
      "cell_type": "code",
      "execution_count": 17,
      "metadata": {
        "id": "F-ZWhEAvJKUA",
        "colab": {
          "base_uri": "https://localhost:8080/",
          "height": 17
        },
        "outputId": "b67d3587-fc52-4de7-e2a4-033fe242e785"
      },
      "outputs": [
        {
          "output_type": "display_data",
          "data": {
            "text/plain": [
              "<IPython.core.display.Javascript object>"
            ],
            "application/javascript": [
              "\n",
              "    async function download(id, filename, size) {\n",
              "      if (!google.colab.kernel.accessAllowed) {\n",
              "        return;\n",
              "      }\n",
              "      const div = document.createElement('div');\n",
              "      const label = document.createElement('label');\n",
              "      label.textContent = `Downloading \"${filename}\": `;\n",
              "      div.appendChild(label);\n",
              "      const progress = document.createElement('progress');\n",
              "      progress.max = size;\n",
              "      div.appendChild(progress);\n",
              "      document.body.appendChild(div);\n",
              "\n",
              "      const buffers = [];\n",
              "      let downloaded = 0;\n",
              "\n",
              "      const channel = await google.colab.kernel.comms.open(id);\n",
              "      // Send a message to notify the kernel that we're ready.\n",
              "      channel.send({})\n",
              "\n",
              "      for await (const message of channel.messages) {\n",
              "        // Send a message to notify the kernel that we're ready.\n",
              "        channel.send({})\n",
              "        if (message.buffers) {\n",
              "          for (const buffer of message.buffers) {\n",
              "            buffers.push(buffer);\n",
              "            downloaded += buffer.byteLength;\n",
              "            progress.value = downloaded;\n",
              "          }\n",
              "        }\n",
              "      }\n",
              "      const blob = new Blob(buffers, {type: 'application/binary'});\n",
              "      const a = document.createElement('a');\n",
              "      a.href = window.URL.createObjectURL(blob);\n",
              "      a.download = filename;\n",
              "      div.appendChild(a);\n",
              "      a.click();\n",
              "      div.remove();\n",
              "    }\n",
              "  "
            ]
          },
          "metadata": {}
        },
        {
          "output_type": "display_data",
          "data": {
            "text/plain": [
              "<IPython.core.display.Javascript object>"
            ],
            "application/javascript": [
              "download(\"download_786a10c7-2f5f-4bbd-96df-5c4bc52f815f\", \"prediction.csv\", 53611)"
            ]
          },
          "metadata": {}
        }
      ],
      "source": [
        "#predicted labels by the model\n",
        "# Note: There is no point adjustment used in the updated code!\n",
        "from google.colab import files\n",
        "files.download('prediction.csv')"
      ]
    },
    {
      "cell_type": "code",
      "execution_count": 18,
      "metadata": {
        "id": "bdollDCAInSr",
        "colab": {
          "base_uri": "https://localhost:8080/",
          "height": 17
        },
        "outputId": "239b44e1-d945-4db3-892e-c78c015e5b8f"
      },
      "outputs": [
        {
          "output_type": "display_data",
          "data": {
            "text/plain": [
              "<IPython.core.display.Javascript object>"
            ],
            "application/javascript": [
              "\n",
              "    async function download(id, filename, size) {\n",
              "      if (!google.colab.kernel.accessAllowed) {\n",
              "        return;\n",
              "      }\n",
              "      const div = document.createElement('div');\n",
              "      const label = document.createElement('label');\n",
              "      label.textContent = `Downloading \"${filename}\": `;\n",
              "      div.appendChild(label);\n",
              "      const progress = document.createElement('progress');\n",
              "      progress.max = size;\n",
              "      div.appendChild(progress);\n",
              "      document.body.appendChild(div);\n",
              "\n",
              "      const buffers = [];\n",
              "      let downloaded = 0;\n",
              "\n",
              "      const channel = await google.colab.kernel.comms.open(id);\n",
              "      // Send a message to notify the kernel that we're ready.\n",
              "      channel.send({})\n",
              "\n",
              "      for await (const message of channel.messages) {\n",
              "        // Send a message to notify the kernel that we're ready.\n",
              "        channel.send({})\n",
              "        if (message.buffers) {\n",
              "          for (const buffer of message.buffers) {\n",
              "            buffers.push(buffer);\n",
              "            downloaded += buffer.byteLength;\n",
              "            progress.value = downloaded;\n",
              "          }\n",
              "        }\n",
              "      }\n",
              "      const blob = new Blob(buffers, {type: 'application/binary'});\n",
              "      const a = document.createElement('a');\n",
              "      a.href = window.URL.createObjectURL(blob);\n",
              "      a.download = filename;\n",
              "      div.appendChild(a);\n",
              "      a.click();\n",
              "      div.remove();\n",
              "    }\n",
              "  "
            ]
          },
          "metadata": {}
        },
        {
          "output_type": "display_data",
          "data": {
            "text/plain": [
              "<IPython.core.display.Javascript object>"
            ],
            "application/javascript": [
              "download(\"download_89f6ed62-3a17-4621-a106-c366dafb90ea\", \"score.csv\", 129239)"
            ]
          },
          "metadata": {}
        }
      ],
      "source": [
        "# test set score, before thresholding\n",
        "from google.colab import files\n",
        "files.download('score.csv')"
      ]
    },
    {
      "cell_type": "code",
      "source": [
        "# train set scores, before thresholding\n",
        "from google.colab import files\n",
        "files.download('train_predictions.csv')"
      ],
      "metadata": {
        "id": "Y4460nPw5Rn3",
        "colab": {
          "base_uri": "https://localhost:8080/",
          "height": 17
        },
        "outputId": "09eaa949-1936-4f74-c140-a615b898d9f2"
      },
      "execution_count": 19,
      "outputs": [
        {
          "output_type": "display_data",
          "data": {
            "text/plain": [
              "<IPython.core.display.Javascript object>"
            ],
            "application/javascript": [
              "\n",
              "    async function download(id, filename, size) {\n",
              "      if (!google.colab.kernel.accessAllowed) {\n",
              "        return;\n",
              "      }\n",
              "      const div = document.createElement('div');\n",
              "      const label = document.createElement('label');\n",
              "      label.textContent = `Downloading \"${filename}\": `;\n",
              "      div.appendChild(label);\n",
              "      const progress = document.createElement('progress');\n",
              "      progress.max = size;\n",
              "      div.appendChild(progress);\n",
              "      document.body.appendChild(div);\n",
              "\n",
              "      const buffers = [];\n",
              "      let downloaded = 0;\n",
              "\n",
              "      const channel = await google.colab.kernel.comms.open(id);\n",
              "      // Send a message to notify the kernel that we're ready.\n",
              "      channel.send({})\n",
              "\n",
              "      for await (const message of channel.messages) {\n",
              "        // Send a message to notify the kernel that we're ready.\n",
              "        channel.send({})\n",
              "        if (message.buffers) {\n",
              "          for (const buffer of message.buffers) {\n",
              "            buffers.push(buffer);\n",
              "            downloaded += buffer.byteLength;\n",
              "            progress.value = downloaded;\n",
              "          }\n",
              "        }\n",
              "      }\n",
              "      const blob = new Blob(buffers, {type: 'application/binary'});\n",
              "      const a = document.createElement('a');\n",
              "      a.href = window.URL.createObjectURL(blob);\n",
              "      a.download = filename;\n",
              "      div.appendChild(a);\n",
              "      a.click();\n",
              "      div.remove();\n",
              "    }\n",
              "  "
            ]
          },
          "metadata": {}
        },
        {
          "output_type": "display_data",
          "data": {
            "text/plain": [
              "<IPython.core.display.Javascript object>"
            ],
            "application/javascript": [
              "download(\"download_6077c6a0-949c-4528-add5-e13cd5418908\", \"train_predictions.csv\", 75000)"
            ]
          },
          "metadata": {}
        }
      ]
    },
    {
      "cell_type": "code",
      "source": [
        "# MSE values per epoch\n",
        "from google.colab import files\n",
        "files.download('mse_values.csv')"
      ],
      "metadata": {
        "id": "VNsJ7RCw5RjC",
        "colab": {
          "base_uri": "https://localhost:8080/",
          "height": 17
        },
        "outputId": "72e3aa10-3f57-4211-adca-66fb01a9482d"
      },
      "execution_count": 20,
      "outputs": [
        {
          "output_type": "display_data",
          "data": {
            "text/plain": [
              "<IPython.core.display.Javascript object>"
            ],
            "application/javascript": [
              "\n",
              "    async function download(id, filename, size) {\n",
              "      if (!google.colab.kernel.accessAllowed) {\n",
              "        return;\n",
              "      }\n",
              "      const div = document.createElement('div');\n",
              "      const label = document.createElement('label');\n",
              "      label.textContent = `Downloading \"${filename}\": `;\n",
              "      div.appendChild(label);\n",
              "      const progress = document.createElement('progress');\n",
              "      progress.max = size;\n",
              "      div.appendChild(progress);\n",
              "      document.body.appendChild(div);\n",
              "\n",
              "      const buffers = [];\n",
              "      let downloaded = 0;\n",
              "\n",
              "      const channel = await google.colab.kernel.comms.open(id);\n",
              "      // Send a message to notify the kernel that we're ready.\n",
              "      channel.send({})\n",
              "\n",
              "      for await (const message of channel.messages) {\n",
              "        // Send a message to notify the kernel that we're ready.\n",
              "        channel.send({})\n",
              "        if (message.buffers) {\n",
              "          for (const buffer of message.buffers) {\n",
              "            buffers.push(buffer);\n",
              "            downloaded += buffer.byteLength;\n",
              "            progress.value = downloaded;\n",
              "          }\n",
              "        }\n",
              "      }\n",
              "      const blob = new Blob(buffers, {type: 'application/binary'});\n",
              "      const a = document.createElement('a');\n",
              "      a.href = window.URL.createObjectURL(blob);\n",
              "      a.download = filename;\n",
              "      div.appendChild(a);\n",
              "      a.click();\n",
              "      div.remove();\n",
              "    }\n",
              "  "
            ]
          },
          "metadata": {}
        },
        {
          "output_type": "display_data",
          "data": {
            "text/plain": [
              "<IPython.core.display.Javascript object>"
            ],
            "application/javascript": [
              "download(\"download_fb637dff-4b03-4d40-a518-167387b44ec0\", \"mse_values.csv\", 110)"
            ]
          },
          "metadata": {}
        }
      ]
    }
  ],
  "metadata": {
    "accelerator": "GPU",
    "colab": {
      "gpuType": "A100",
      "provenance": []
    },
    "kernelspec": {
      "display_name": "Python 3",
      "name": "python3"
    },
    "language_info": {
      "name": "python"
    }
  },
  "nbformat": 4,
  "nbformat_minor": 0
}