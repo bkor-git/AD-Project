{
 "cells": [
  {
   "cell_type": "code",
   "execution_count": 5,
   "id": "e3296960",
   "metadata": {},
   "outputs": [],
   "source": [
    "current_position = 't'\n",
    "desired_position = 0\n",
    "\n",
    "root_directory = r'C:\\myDrive\\TuftsPhD2022\\ProfMillerPhDResearch\\PhDResearchProfMiller\\Dataset\\Data_Oct\\SavGol-101-TrainSet\\Normal11272023'\n",
    "\n",
    "for root, dirs, files in os.walk(root_directory):\n",
    "    for file in files:\n",
    "        if file.endswith('.csv'):\n",
    "            file_path = os.path.join(root, file)\n",
    "\n",
    "            df = pd.read_csv(file_path)\n",
    "\n",
    "            if current_position in df.columns:\n",
    "                column_to_move = df.pop(current_position)\n",
    "\n",
    "                df.insert(desired_position, column_to_move.name, column_to_move)\n",
    "\n",
    "                df.to_csv(file_path, index=False)"
   ]
  },
  {
   "cell_type": "code",
   "execution_count": 10,
   "id": "427adbd7",
   "metadata": {},
   "outputs": [
    {
     "name": "stderr",
     "output_type": "stream",
     "text": [
      "C:\\Users\\B2_LocalUser\\AppData\\Roaming\\Python\\Python310\\site-packages\\scipy\\__init__.py:146: UserWarning: A NumPy version >=1.16.5 and <1.23.0 is required for this version of SciPy (detected version 1.26.0\n",
      "  warnings.warn(f\"A NumPy version >={np_minversion} and <{np_maxversion}\"\n"
     ]
    }
   ],
   "source": [
    "import os\n",
    "import pandas as pd\n",
    "import glob\n",
    "import csv\n",
    "from os import listdir, path\n",
    "import numpy as np\n",
    "import matplotlib.pyplot as plt\n",
    "from scipy import signal"
   ]
  },
  {
   "cell_type": "code",
   "execution_count": 7,
   "id": "ea937c58",
   "metadata": {},
   "outputs": [],
   "source": [
    "root_directory = r'C:\\myDrive\\TuftsPhD2022\\ProfMillerPhDResearch\\PhDResearchProfMiller\\Dataset\\Data_Oct\\SavGol-101-TrainSet\\'"
   ]
  },
  {
   "cell_type": "code",
   "execution_count": 8,
   "id": "418c2e7a",
   "metadata": {},
   "outputs": [],
   "source": [
    "for root, dirs, files in os.walk(root_directory):\n",
    "    for file in files:\n",
    "        if file.endswith(\".csv\"):\n",
    "\n",
    "            filename = os.path.join(root, file)\n",
    "            df = pd.read_csv(filename)\n",
    "            df['t'] = df['t'].round(2)\n",
    "            df.to_csv(filename, index=False)"
   ]
  },
  {
   "cell_type": "code",
   "execution_count": 19,
   "id": "c24cba2e",
   "metadata": {},
   "outputs": [],
   "source": [
    "folder_path = r\"C:\\myDrive\\TuftsPhD2022\\ProfMillerPhDResearch\\PhDResearchProfMiller\\Dataset\\Data_Oct\\SavGol-101-TrainSet\\AllPerson\" \n",
    "\n",
    "# Retrieve all folders in the folder path\n",
    "folders = glob.glob(os.path.join(folder_path, \"*\"))\n",
    "\n",
    "# Rename each folder\n",
    "for i, folder in enumerate(folders, start= 1):\n",
    "    new_name = f\"MyOutput{i}\"\n",
    "    new_path = os.path.join(os.path.dirname(folder), new_name)\n",
    "    os.rename(folder, new_path)"
   ]
  },
  {
   "cell_type": "code",
   "execution_count": 16,
   "id": "2271ddb2",
   "metadata": {},
   "outputs": [],
   "source": [
    "import os\n",
    "import pandas as pd\n",
    "\n",
    "def assign_rank(subfolder_path):\n",
    "    values_and_paths = []\n",
    "\n",
    "    for filename in os.listdir(subfolder_path):\n",
    "        if filename.endswith(\".csv\"):\n",
    "            csv_path = os.path.join(subfolder_path, filename)\n",
    "            df = pd.read_csv(csv_path)\n",
    "            first_t_value = df['t'].iloc[0]\n",
    "            values_and_paths.append((first_t_value, csv_path))\n",
    "\n",
    "    sorted_values_and_paths = sorted(values_and_paths, key=lambda x: x[0])\n",
    "\n",
    "    for rank, (value, csv_path) in enumerate(sorted_values_and_paths, start=1):\n",
    "        df = pd.read_csv(csv_path)\n",
    "        df['ID'] = rank\n",
    "        df.to_csv(csv_path, index=False)\n",
    "\n",
    "def process_all_subfolders(main_folder):\n",
    "    for subfolder in os.listdir(main_folder):\n",
    "        subfolder_path = os.path.join(main_folder, subfolder)\n",
    "        if os.path.isdir(subfolder_path):\n",
    "            assign_rank(subfolder_path)\n",
    "\n",
    "main_folder_path = r'C:\\myDrive\\TuftsPhD2022\\ProfMillerPhDResearch\\PhDResearchProfMiller\\Dataset\\Data_Oct\\Backup\\Normal_12122023_Final'\n",
    "process_all_subfolders(main_folder_path)"
   ]
  },
  {
   "cell_type": "code",
   "execution_count": null,
   "id": "75595618",
   "metadata": {},
   "outputs": [],
   "source": []
  }
 ],
 "metadata": {
  "kernelspec": {
   "display_name": "Python 3 (ipykernel)",
   "language": "python",
   "name": "python3"
  },
  "language_info": {
   "codemirror_mode": {
    "name": "ipython",
    "version": 3
   },
   "file_extension": ".py",
   "mimetype": "text/x-python",
   "name": "python",
   "nbconvert_exporter": "python",
   "pygments_lexer": "ipython3",
   "version": "3.10.9"
  }
 },
 "nbformat": 4,
 "nbformat_minor": 5
}
